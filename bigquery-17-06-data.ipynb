{
 "cells": [
  {
   "cell_type": "code",
   "execution_count": 3,
   "metadata": {},
   "outputs": [],
   "source": [
    "import scipy as sp\n",
    "import spacy\n",
    "import pandas as pd\n",
    "import pickle\n",
    "import gzip\n",
    "from tqdm import tqdm\n",
    "from google.cloud import bigquery\n",
    "from logging import getLogger\n",
    "from concurrent.futures import TimeoutError\n",
    "import sys\n",
    "import os\n",
    "from pathlib import Path\n",
    "\n",
    "PROJECT = 'reddit-network-184710'\n",
    "CREDENTIALS = 'reddit-network-774059619c28.json'\n",
    "\n",
    "CACHE = 'cache'\n",
    "\n",
    "def client():\n",
    "    return bigquery.Client.from_service_account_json(CREDENTIALS, project=PROJECT)"
   ]
  },
  {
   "cell_type": "code",
   "execution_count": 5,
   "metadata": {},
   "outputs": [
    {
     "data": {
      "text/plain": [
       "\"SELECT subreddit, author, created_utc\\n            FROM `fh-bigquery.reddit_comments.2017_06`\\n            WHERE author IS 'changemyview'\""
      ]
     },
     "execution_count": 5,
     "metadata": {},
     "output_type": "execute_result"
    }
   ],
   "source": [
    "import pandas as pd\n",
    "\n",
    "query = \"\"\"SELECT subreddit, author, created_utc\n",
    "            FROM `fh-bigquery.reddit_comments.2017_06`\n",
    "            WHERE author IS 'changemyview'\"\"\"\n",
    "\n",
    "query"
   ]
  },
  {
   "cell_type": "code",
   "execution_count": 13,
   "metadata": {},
   "outputs": [],
   "source": [
    "import pandas as pd\n",
    "\n",
    "query = \"\"\"SELECT subreddit, author, created_utc\n",
    "            FROM `fh-bigquery.reddit_comments.2017_06`\n",
    "            WHERE subreddit IN ('changemyview', 'The_Donald')\"\"\""
   ]
  },
  {
   "cell_type": "code",
   "execution_count": 14,
   "metadata": {},
   "outputs": [
    {
     "name": "stdout",
     "output_type": "stream",
     "text": [
      "Submitting query\n"
     ]
    },
    {
     "name": "stderr",
     "output_type": "stream",
     "text": [
      "8it [00:10,  1.31s/it]\n"
     ]
    }
   ],
   "source": [
    "config = bigquery.QueryJobConfig()\n",
    "config.query_parameters = (bigquery.ScalarQueryParameter('size', 'INT64', 10),)\n",
    "\n",
    "config = config or bigquery.QueryJobConfig()\n",
    "config.use_legacy_sql = False\n",
    "config.maximum_bytes_billed = int(5e9)\n",
    "\n",
    "print('Submitting query')\n",
    "j = client().query(query=query, job_config=config)\n",
    "with tqdm() as pbar:\n",
    "    while True:\n",
    "        try:\n",
    "            j.result(timeout=1)\n",
    "        except TimeoutError:                \n",
    "            pbar.update(1)\n",
    "        else:\n",
    "            break"
   ]
  },
  {
   "cell_type": "code",
   "execution_count": 15,
   "metadata": {},
   "outputs": [
    {
     "name": "stderr",
     "output_type": "stream",
     "text": [
      "\r",
      "  0%|          | 0/1231681 [00:00<?, ?it/s]"
     ]
    },
    {
     "name": "stdout",
     "output_type": "stream",
     "text": [
      "Unpacking results\n"
     ]
    },
    {
     "name": "stderr",
     "output_type": "stream",
     "text": [
      "100%|██████████| 1231681/1231681 [01:05<00:00, 18676.24it/s]\n"
     ]
    }
   ],
   "source": [
    "print('Unpacking results')\n",
    "    \n",
    "total = j.query_results().total_rows\n",
    "\n",
    "iterator = j.result()\n",
    "rows = []\n",
    "for row in tqdm(iterator, total=total):\n",
    "    rows.append(row.values())\n",
    "\n",
    "columns = [c.name for c in iterator.schema]\n",
    "df = pd.DataFrame(rows, None, columns)"
   ]
  },
  {
   "cell_type": "code",
   "execution_count": 16,
   "metadata": {},
   "outputs": [
    {
     "data": {
      "text/plain": [
       "(1231681, 3)"
      ]
     },
     "execution_count": 16,
     "metadata": {},
     "output_type": "execute_result"
    }
   ],
   "source": [
    "df.shape"
   ]
  },
  {
   "cell_type": "code",
   "execution_count": 17,
   "metadata": {},
   "outputs": [],
   "source": [
    "df.to_csv('cmv-td-17-06-comments.csv')\n",
    "df.to_pickle('cmv-td-17-06-comments.pkl')"
   ]
  },
  {
   "cell_type": "code",
   "execution_count": 20,
   "metadata": {},
   "outputs": [
    {
     "data": {
      "text/plain": [
       "60286"
      ]
     },
     "execution_count": 20,
     "metadata": {},
     "output_type": "execute_result"
    }
   ],
   "source": [
    "df = pd.read_csv('cmv-td-17-06-comments.csv')\n",
    "authors = list(df['author'].unique())\n",
    "test_names = tuple(authors[:6])\n",
    "\n",
    "authors = set(df['author'])\n",
    "\n",
    "s = ''\n",
    "for name in authors:\n",
    "    s = s + \"'\" + name + \"' ,\"\n",
    "\n",
    "s = s[:-2]\n",
    "\n",
    "len(authors)\n"
   ]
  },
  {
   "cell_type": "code",
   "execution_count": null,
   "metadata": {},
   "outputs": [],
   "source": []
  }
 ],
 "metadata": {
  "kernelspec": {
   "display_name": "Python 3",
   "language": "python",
   "name": "python3"
  },
  "language_info": {
   "codemirror_mode": {
    "name": "ipython",
    "version": 3
   },
   "file_extension": ".py",
   "mimetype": "text/x-python",
   "name": "python",
   "nbconvert_exporter": "python",
   "pygments_lexer": "ipython3",
   "version": "3.6.3"
  }
 },
 "nbformat": 4,
 "nbformat_minor": 2
}
